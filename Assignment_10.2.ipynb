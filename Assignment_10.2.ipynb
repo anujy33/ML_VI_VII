{
 "cells": [
  {
   "cell_type": "markdown",
   "metadata": {},
   "source": [
    "# Assignment_10.2\n",
    "In this assignment, students will be using the K-nearest neighbors algorithm to predict\n",
    "how many points NBA players scored in the 2013-2014 season.\n",
    "A look at the data\n",
    "Before we dive into the algorithm, letâ€TMs take a look at our data. Each row in the data\n",
    "contains information on how a player performed in the 2013-2014 NBA season.\n",
    "Download 'nba_2013.csv' file from this link:\n",
    "https://www.dropbox.com/s/b3nv38jjo5dxcl6/nba_2013.csv?dl=0\n",
    "Here are some selected columns from the data:\n",
    "player - name of the player\n",
    "pos - the position of the player\n",
    "g - number of games the player was in\n",
    "gs - number of games the player started\n",
    "pts - total points the player scored\n",
    "There are many more columns in the data, mostly containing information about average\n",
    "player game performance over the course of the season. See this site for an explanation\n",
    "of the rest of them.\n",
    "We can read our dataset in and figure out which columns are present:\n",
    "\n",
    "import pandas\n",
    "with open(\"nba_2013.csv\", 'r') as csvfile:\n",
    "nba = pandas.read_csv(csvfile)"
   ]
  },
  {
   "cell_type": "code",
   "execution_count": 1,
   "metadata": {},
   "outputs": [],
   "source": [
    "import numpy as np\n",
    "import pandas as pd\n",
    "\n",
    "dataset = pd.read_csv('nba_2013.csv')\n",
    "\n",
    "#removing unwanted columns from the data set\n",
    "dataset.pop('player')#,'bref_team_id','season','seasom_end')\n",
    "dataset.pop('bref_team_id')\n",
    "dataset.pop('season')\n",
    "dataset.pop('season_end')\n",
    "\n",
    "#Categorise the data \n",
    "dataset['pos']= pd.Categorical(dataset['pos']).codes\n",
    "\n",
    "#Handling missing data\n",
    "from sklearn.preprocessing import Imputer\n",
    "imp = Imputer(missing_values='NaN', strategy = 'mean', axis =1)\n",
    "dataset = imp.fit_transform(dataset)\n",
    "\n",
    "#forming X and y co-ordinates \n",
    "X = dataset[:,:-1]\n",
    "y = dataset[:,-1]\n",
    "\n",
    "from sklearn.model_selection import train_test_split\n",
    "X_train, X_test, y_train, y_test = train_test_split(X,y, test_size= 0.2, random_state = 0)\n",
    "\n",
    "#implementing the above sets to KNN model\n",
    "from sklearn.neighbors import KNeighborsRegressor\n",
    "\n",
    "for k in range(25):\n",
    "    k += 1\n",
    "    knn = KNeighborsRegressor(n_neighbors=k, weights='uniform', algorithm='auto')\n",
    "    knn.fit(X_train, y_train)\n",
    "    y_pred = knn.predict(X_test)"
   ]
  },
  {
   "cell_type": "code",
   "execution_count": 3,
   "metadata": {},
   "outputs": [
    {
     "name": "stdout",
     "output_type": "stream",
     "text": [
      "values for which we need to predict the points:  [[  3.  25.  22. ...   7.  20.  47.]\n",
      " [  3.  31.  79. ...  32. 121. 140.]\n",
      " [  3.  24.  80. ...  69. 135. 193.]\n",
      " ...\n",
      " [  5.  22.  78. ...  20.  76. 114.]\n",
      " [  3.  33.  34. ...   0.  34.  72.]\n",
      " [  4.  27.  30. ...   2.  99.  65.]]\n",
      "predicted values for X_test are: [ 330.36  735.96 1033.92    6.04  920.28  341.8   333.36  659.8    78.\n",
      "   22.4  1054.24   39.12   94.72   30.32  438.8  1598.4   114.12    6.04\n",
      " 1229.68   95.48  221.96   84.96 1037.64 1107.28  640.88  103.24    6.04\n",
      "  918.12 1221.36  781.36  180.08  436.8   555.16  339.76 1056.44 1520.64\n",
      "  333.96    6.04   18.2    25.28  707.2   407.04  666.68   15.88    6.04\n",
      "  326.68  414.76   70.8   115.64   57.24  191.56  601.04   48.08  969.36\n",
      "  807.28   33.52  351.64    6.04  425.76  169.24    6.04  445.48  688.64\n",
      "  361.92  207.4   837.04  560.88   36.36  452.84  161.64  976.12   10.92\n",
      "   27.64   37.76  329.08   84.    383.12  205.72  682.64  857.88  639.04\n",
      "  992.12  555.   1420.32    6.04  398.8   116.6   343.4   333.36  147.16\n",
      "  667.   1281.12  138.68  598.12  595.84  171.92  375.6 ]\n"
     ]
    }
   ],
   "source": [
    "print(\"values for which we need to predict the points: \", X_test)\n",
    "print(\"predicted values for X_test are:\", y_pred)"
   ]
  },
  {
   "cell_type": "code",
   "execution_count": null,
   "metadata": {},
   "outputs": [],
   "source": []
  }
 ],
 "metadata": {
  "kernelspec": {
   "display_name": "Python 3",
   "language": "python",
   "name": "python3"
  },
  "language_info": {
   "codemirror_mode": {
    "name": "ipython",
    "version": 3
   },
   "file_extension": ".py",
   "mimetype": "text/x-python",
   "name": "python",
   "nbconvert_exporter": "python",
   "pygments_lexer": "ipython3",
   "version": "3.6.4"
  }
 },
 "nbformat": 4,
 "nbformat_minor": 2
}
